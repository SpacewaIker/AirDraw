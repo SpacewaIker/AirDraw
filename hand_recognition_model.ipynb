{
  "nbformat": 4,
  "nbformat_minor": 0,
  "metadata": {
    "colab": {
      "name": "hand recognition model.ipynb",
      "provenance": []
    },
    "kernelspec": {
      "name": "python3",
      "display_name": "Python 3"
    },
    "language_info": {
      "name": "python"
    }
  },
  "cells": [
    {
      "cell_type": "markdown",
      "metadata": {
        "id": "QsXbawa_pDU-"
      },
      "source": [
        "# Hand recognition model\n",
        "This code uses a random forest classifier"
      ]
    },
    {
      "cell_type": "markdown",
      "metadata": {
        "id": "oJYVjxicoHbl"
      },
      "source": [
        "## Imports"
      ]
    },
    {
      "cell_type": "code",
      "metadata": {
        "id": "7jXTEHw0oJPh",
        "colab": {
          "base_uri": "https://localhost:8080/"
        },
        "outputId": "9aed0fe9-1dda-4f5d-ec0b-ec4d8fc95e44"
      },
      "source": [
        "!pip install --upgrade sklearn\n",
        "\n",
        "import pandas as pd\n",
        "import numpy as np\n",
        "import sklearn.ensemble as ensemble"
      ],
      "execution_count": 3,
      "outputs": [
        {
          "output_type": "stream",
          "name": "stdout",
          "text": [
            "Requirement already satisfied: sklearn in /usr/local/lib/python3.7/dist-packages (0.0)\n",
            "Requirement already satisfied: scikit-learn in /usr/local/lib/python3.7/dist-packages (from sklearn) (0.22.2.post1)\n",
            "Requirement already satisfied: numpy>=1.11.0 in /usr/local/lib/python3.7/dist-packages (from scikit-learn->sklearn) (1.19.5)\n",
            "Requirement already satisfied: scipy>=0.17.0 in /usr/local/lib/python3.7/dist-packages (from scikit-learn->sklearn) (1.4.1)\n",
            "Requirement already satisfied: joblib>=0.11 in /usr/local/lib/python3.7/dist-packages (from scikit-learn->sklearn) (1.0.1)\n"
          ]
        }
      ]
    },
    {
      "cell_type": "markdown",
      "metadata": {
        "id": "Gh86x7JMou2-"
      },
      "source": [
        "## Get preprocessed data"
      ]
    },
    {
      "cell_type": "code",
      "metadata": {
        "colab": {
          "base_uri": "https://localhost:8080/"
        },
        "id": "wBOILnlEoutB",
        "outputId": "93f4b7dd-9347-461f-e488-197e9259bb35"
      },
      "source": [
        "!wget https://raw.githubusercontent.com/SpacewaIker/AirDraw/main/train_x.csv\n",
        "!wget https://raw.githubusercontent.com/SpacewaIker/AirDraw/main/test_x.csv"
      ],
      "execution_count": 4,
      "outputs": [
        {
          "output_type": "stream",
          "name": "stdout",
          "text": [
            "--2021-11-02 13:57:45--  https://raw.githubusercontent.com/SpacewaIker/AirDraw/main/train_x.csv\n",
            "Resolving raw.githubusercontent.com (raw.githubusercontent.com)... 185.199.108.133, 185.199.111.133, 185.199.109.133, ...\n",
            "Connecting to raw.githubusercontent.com (raw.githubusercontent.com)|185.199.108.133|:443... connected.\n",
            "HTTP request sent, awaiting response... 200 OK\n",
            "Length: 20009825 (19M) [text/plain]\n",
            "Saving to: ‘train_x.csv’\n",
            "\n",
            "train_x.csv         100%[===================>]  19.08M  --.-KB/s    in 0.1s    \n",
            "\n",
            "2021-11-02 13:57:46 (131 MB/s) - ‘train_x.csv’ saved [20009825/20009825]\n",
            "\n",
            "--2021-11-02 13:57:46--  https://raw.githubusercontent.com/SpacewaIker/AirDraw/main/test_x.csv\n",
            "Resolving raw.githubusercontent.com (raw.githubusercontent.com)... 185.199.108.133, 185.199.109.133, 185.199.110.133, ...\n",
            "Connecting to raw.githubusercontent.com (raw.githubusercontent.com)|185.199.108.133|:443... connected.\n",
            "HTTP request sent, awaiting response... 200 OK\n",
            "Length: 9121 (8.9K) [text/plain]\n",
            "Saving to: ‘test_x.csv’\n",
            "\n",
            "test_x.csv          100%[===================>]   8.91K  --.-KB/s    in 0s      \n",
            "\n",
            "2021-11-02 13:57:46 (72.0 MB/s) - ‘test_x.csv’ saved [9121/9121]\n",
            "\n"
          ]
        }
      ]
    },
    {
      "cell_type": "code",
      "metadata": {
        "colab": {
          "base_uri": "https://localhost:8080/"
        },
        "id": "wO567zX7p-kh",
        "outputId": "cc260766-0d59-4ca6-e561-aa590a2b431c"
      },
      "source": [
        "train_x = pd.read_csv('train_x.csv', index_col=0)\n",
        "train_x.dropna(inplace=True)\n",
        "\n",
        "print(train_x.info())\n",
        "print(train_x)"
      ],
      "execution_count": 5,
      "outputs": [
        {
          "output_type": "stream",
          "name": "stdout",
          "text": [
            "<class 'pandas.core.frame.DataFrame'>\n",
            "Index: 15643 entries, L/L1.jpg to R/R3000.jpg\n",
            "Data columns (total 64 columns):\n",
            " #   Column   Non-Null Count  Dtype  \n",
            "---  ------   --------------  -----  \n",
            " 0   Command  15643 non-null  object \n",
            " 1   0        15643 non-null  float64\n",
            " 2   1        15643 non-null  float64\n",
            " 3   2        15643 non-null  float64\n",
            " 4   3        15643 non-null  float64\n",
            " 5   4        15643 non-null  float64\n",
            " 6   5        15643 non-null  float64\n",
            " 7   6        15643 non-null  float64\n",
            " 8   7        15643 non-null  float64\n",
            " 9   8        15643 non-null  float64\n",
            " 10  9        15643 non-null  float64\n",
            " 11  10       15643 non-null  float64\n",
            " 12  11       15643 non-null  float64\n",
            " 13  12       15643 non-null  float64\n",
            " 14  13       15643 non-null  float64\n",
            " 15  14       15643 non-null  float64\n",
            " 16  15       15643 non-null  float64\n",
            " 17  16       15643 non-null  float64\n",
            " 18  17       15643 non-null  float64\n",
            " 19  18       15643 non-null  float64\n",
            " 20  19       15643 non-null  float64\n",
            " 21  20       15643 non-null  float64\n",
            " 22  21       15643 non-null  float64\n",
            " 23  22       15643 non-null  float64\n",
            " 24  23       15643 non-null  float64\n",
            " 25  24       15643 non-null  float64\n",
            " 26  25       15643 non-null  float64\n",
            " 27  26       15643 non-null  float64\n",
            " 28  27       15643 non-null  float64\n",
            " 29  28       15643 non-null  float64\n",
            " 30  29       15643 non-null  float64\n",
            " 31  30       15643 non-null  float64\n",
            " 32  31       15643 non-null  float64\n",
            " 33  32       15643 non-null  float64\n",
            " 34  33       15643 non-null  float64\n",
            " 35  34       15643 non-null  float64\n",
            " 36  35       15643 non-null  float64\n",
            " 37  36       15643 non-null  float64\n",
            " 38  37       15643 non-null  float64\n",
            " 39  38       15643 non-null  float64\n",
            " 40  39       15643 non-null  float64\n",
            " 41  40       15643 non-null  float64\n",
            " 42  41       15643 non-null  float64\n",
            " 43  42       15643 non-null  float64\n",
            " 44  43       15643 non-null  float64\n",
            " 45  44       15643 non-null  float64\n",
            " 46  45       15643 non-null  float64\n",
            " 47  46       15643 non-null  float64\n",
            " 48  47       15643 non-null  float64\n",
            " 49  48       15643 non-null  float64\n",
            " 50  49       15643 non-null  float64\n",
            " 51  50       15643 non-null  float64\n",
            " 52  51       15643 non-null  float64\n",
            " 53  52       15643 non-null  float64\n",
            " 54  53       15643 non-null  float64\n",
            " 55  54       15643 non-null  float64\n",
            " 56  55       15643 non-null  float64\n",
            " 57  56       15643 non-null  float64\n",
            " 58  57       15643 non-null  float64\n",
            " 59  58       15643 non-null  float64\n",
            " 60  59       15643 non-null  float64\n",
            " 61  60       15643 non-null  float64\n",
            " 62  61       15643 non-null  float64\n",
            " 63  62       15643 non-null  float64\n",
            "dtypes: float64(63), object(1)\n",
            "memory usage: 7.8+ MB\n",
            "None\n",
            "            Command         0         1  ...        60        61        62\n",
            "File                                     ...                              \n",
            "L/L1.jpg       Line  0.194117  0.781227  ...  0.156872  0.606071 -0.037719\n",
            "L/L2.jpg       Line  0.206340  0.751357  ...  0.158566  0.591742 -0.067008\n",
            "L/L3.jpg       Line  0.205757  0.734117  ...  0.159469  0.574912 -0.068139\n",
            "L/L4.jpg       Line  0.222412  0.708068  ...  0.162554  0.569236 -0.102018\n",
            "L/L5.jpg       Line  0.218702  0.703621  ...  0.166273  0.544865 -0.076625\n",
            "...             ...       ...       ...  ...       ...       ...       ...\n",
            "R/R2996.jpg  Delete  0.761999  0.578109  ...  0.747502  0.434022 -0.045308\n",
            "R/R2997.jpg  Delete  0.760152  0.583979  ...  0.747119  0.447690 -0.047027\n",
            "R/R2998.jpg  Delete  0.762270  0.593931  ...  0.743116  0.453064 -0.045474\n",
            "R/R2999.jpg  Delete  0.762119  0.604612  ...  0.743128  0.459108 -0.045114\n",
            "R/R3000.jpg  Delete  0.763956  0.609186  ...  0.742553  0.463149 -0.045747\n",
            "\n",
            "[15643 rows x 64 columns]\n"
          ]
        }
      ]
    },
    {
      "cell_type": "code",
      "metadata": {
        "colab": {
          "base_uri": "https://localhost:8080/"
        },
        "id": "_vWTh6tmq-CG",
        "outputId": "53ccd5d3-4d01-4316-803d-7dde36e31522"
      },
      "source": [
        "# get array with labels only\n",
        "y_train = train_x['Command']\n",
        "\n",
        "# get array with features only and drop NaNs\n",
        "x_train = train_x.iloc[:, 1:64]\n",
        "\n",
        "print(y_train)\n",
        "print(x_train)"
      ],
      "execution_count": 6,
      "outputs": [
        {
          "output_type": "stream",
          "name": "stdout",
          "text": [
            "File\n",
            "L/L1.jpg         Line\n",
            "L/L2.jpg         Line\n",
            "L/L3.jpg         Line\n",
            "L/L4.jpg         Line\n",
            "L/L5.jpg         Line\n",
            "                ...  \n",
            "R/R2996.jpg    Delete\n",
            "R/R2997.jpg    Delete\n",
            "R/R2998.jpg    Delete\n",
            "R/R2999.jpg    Delete\n",
            "R/R3000.jpg    Delete\n",
            "Name: Command, Length: 15643, dtype: object\n",
            "                    0         1             2  ...        60        61        62\n",
            "File                                           ...                              \n",
            "L/L1.jpg     0.194117  0.781227 -3.367010e-09  ...  0.156872  0.606071 -0.037719\n",
            "L/L2.jpg     0.206340  0.751357 -1.938742e-08  ...  0.158566  0.591742 -0.067008\n",
            "L/L3.jpg     0.205757  0.734117 -3.383282e-08  ...  0.159469  0.574912 -0.068139\n",
            "L/L4.jpg     0.222412  0.708068 -1.553837e-07  ...  0.162554  0.569236 -0.102018\n",
            "L/L5.jpg     0.218702  0.703621 -1.241003e-07  ...  0.166273  0.544865 -0.076625\n",
            "...               ...       ...           ...  ...       ...       ...       ...\n",
            "R/R2996.jpg  0.761999  0.578109  6.156170e-07  ...  0.747502  0.434022 -0.045308\n",
            "R/R2997.jpg  0.760152  0.583979  6.513004e-07  ...  0.747119  0.447690 -0.047027\n",
            "R/R2998.jpg  0.762270  0.593931  6.346302e-07  ...  0.743116  0.453064 -0.045474\n",
            "R/R2999.jpg  0.762119  0.604612  6.243387e-07  ...  0.743128  0.459108 -0.045114\n",
            "R/R3000.jpg  0.763956  0.609186  5.645265e-07  ...  0.742553  0.463149 -0.045747\n",
            "\n",
            "[15643 rows x 63 columns]\n"
          ]
        }
      ]
    },
    {
      "cell_type": "markdown",
      "metadata": {
        "id": "OyWH6ayXqr-O"
      },
      "source": [
        "## Random Forest Classifier"
      ]
    },
    {
      "cell_type": "code",
      "metadata": {
        "id": "EFJKaHRLquOG",
        "colab": {
          "base_uri": "https://localhost:8080/"
        },
        "outputId": "0c51bf51-829e-4d8d-db13-f5947b1a62be"
      },
      "source": [
        "rfc = ensemble.RandomForestClassifier()\n",
        "rfc.fit(x_train, y_train)"
      ],
      "execution_count": 7,
      "outputs": [
        {
          "output_type": "execute_result",
          "data": {
            "text/plain": [
              "RandomForestClassifier(bootstrap=True, ccp_alpha=0.0, class_weight=None,\n",
              "                       criterion='gini', max_depth=None, max_features='auto',\n",
              "                       max_leaf_nodes=None, max_samples=None,\n",
              "                       min_impurity_decrease=0.0, min_impurity_split=None,\n",
              "                       min_samples_leaf=1, min_samples_split=2,\n",
              "                       min_weight_fraction_leaf=0.0, n_estimators=100,\n",
              "                       n_jobs=None, oob_score=False, random_state=None,\n",
              "                       verbose=0, warm_start=False)"
            ]
          },
          "metadata": {},
          "execution_count": 7
        }
      ]
    },
    {
      "cell_type": "markdown",
      "metadata": {
        "id": "0wHZr1yM_h5G"
      },
      "source": [
        "## Preprocess testing images"
      ]
    },
    {
      "cell_type": "code",
      "metadata": {
        "colab": {
          "base_uri": "https://localhost:8080/"
        },
        "id": "CB_hbafa6sSA",
        "outputId": "ec73c4b4-84eb-4995-f555-70a5b21d0cd9"
      },
      "source": [
        "test_x = pd.read_csv('test_x.csv', index_col=0)\n",
        "test_x.dropna(inplace=True)\n",
        "\n",
        "print(test_x.info())\n",
        "print(test_x)"
      ],
      "execution_count": 8,
      "outputs": [
        {
          "output_type": "stream",
          "name": "stdout",
          "text": [
            "<class 'pandas.core.frame.DataFrame'>\n",
            "Index: 7 entries, L_test.jpg to R_test.jpg\n",
            "Data columns (total 64 columns):\n",
            " #   Column   Non-Null Count  Dtype  \n",
            "---  ------   --------------  -----  \n",
            " 0   Command  7 non-null      object \n",
            " 1   0        7 non-null      float64\n",
            " 2   1        7 non-null      float64\n",
            " 3   2        7 non-null      float64\n",
            " 4   3        7 non-null      float64\n",
            " 5   4        7 non-null      float64\n",
            " 6   5        7 non-null      float64\n",
            " 7   6        7 non-null      float64\n",
            " 8   7        7 non-null      float64\n",
            " 9   8        7 non-null      float64\n",
            " 10  9        7 non-null      float64\n",
            " 11  10       7 non-null      float64\n",
            " 12  11       7 non-null      float64\n",
            " 13  12       7 non-null      float64\n",
            " 14  13       7 non-null      float64\n",
            " 15  14       7 non-null      float64\n",
            " 16  15       7 non-null      float64\n",
            " 17  16       7 non-null      float64\n",
            " 18  17       7 non-null      float64\n",
            " 19  18       7 non-null      float64\n",
            " 20  19       7 non-null      float64\n",
            " 21  20       7 non-null      float64\n",
            " 22  21       7 non-null      float64\n",
            " 23  22       7 non-null      float64\n",
            " 24  23       7 non-null      float64\n",
            " 25  24       7 non-null      float64\n",
            " 26  25       7 non-null      float64\n",
            " 27  26       7 non-null      float64\n",
            " 28  27       7 non-null      float64\n",
            " 29  28       7 non-null      float64\n",
            " 30  29       7 non-null      float64\n",
            " 31  30       7 non-null      float64\n",
            " 32  31       7 non-null      float64\n",
            " 33  32       7 non-null      float64\n",
            " 34  33       7 non-null      float64\n",
            " 35  34       7 non-null      float64\n",
            " 36  35       7 non-null      float64\n",
            " 37  36       7 non-null      float64\n",
            " 38  37       7 non-null      float64\n",
            " 39  38       7 non-null      float64\n",
            " 40  39       7 non-null      float64\n",
            " 41  40       7 non-null      float64\n",
            " 42  41       7 non-null      float64\n",
            " 43  42       7 non-null      float64\n",
            " 44  43       7 non-null      float64\n",
            " 45  44       7 non-null      float64\n",
            " 46  45       7 non-null      float64\n",
            " 47  46       7 non-null      float64\n",
            " 48  47       7 non-null      float64\n",
            " 49  48       7 non-null      float64\n",
            " 50  49       7 non-null      float64\n",
            " 51  50       7 non-null      float64\n",
            " 52  51       7 non-null      float64\n",
            " 53  52       7 non-null      float64\n",
            " 54  53       7 non-null      float64\n",
            " 55  54       7 non-null      float64\n",
            " 56  55       7 non-null      float64\n",
            " 57  56       7 non-null      float64\n",
            " 58  57       7 non-null      float64\n",
            " 59  58       7 non-null      float64\n",
            " 60  59       7 non-null      float64\n",
            " 61  60       7 non-null      float64\n",
            " 62  61       7 non-null      float64\n",
            " 63  62       7 non-null      float64\n",
            "dtypes: float64(63), object(1)\n",
            "memory usage: 3.6+ KB\n",
            "None\n",
            "              Command         0         1  ...        60        61        62\n",
            "L_test.jpg       Line  0.194117  0.781227  ...  0.156872  0.606071 -0.037719\n",
            "S_test.jpg    Ellipse  0.388679  0.652530  ...  0.304713  0.491797 -0.021766\n",
            "G_test.jpg  Rectangle  0.599978  0.740450  ...  0.473065  0.757525 -0.110142\n",
            "K_test.jpg   Triangle  0.491627  0.935984  ...  0.411350  0.800293 -0.094555\n",
            "V_test.jpg   Triangle  0.242814  0.957717  ...  0.170084  0.777523 -0.150767\n",
            "B_test.jpg       Move  0.619207  0.840809  ...  0.418085  0.324503  0.012467\n",
            "R_test.jpg     Delete  0.278777  0.884406  ...  0.215812  0.700789 -0.141390\n",
            "\n",
            "[7 rows x 64 columns]\n"
          ]
        }
      ]
    },
    {
      "cell_type": "code",
      "metadata": {
        "colab": {
          "base_uri": "https://localhost:8080/"
        },
        "id": "dyXDiGnB6xsq",
        "outputId": "4a978750-c778-4ddc-d78f-13109db546ff"
      },
      "source": [
        "# get array with labels only\n",
        "y_test = test_x['Command']\n",
        "\n",
        "# get array with features only and drop NaNs\n",
        "x_test = test_x.iloc[:, 1:64]\n",
        "\n",
        "print(y_test)\n",
        "print(x_test)"
      ],
      "execution_count": 9,
      "outputs": [
        {
          "output_type": "stream",
          "name": "stdout",
          "text": [
            "L_test.jpg         Line\n",
            "S_test.jpg      Ellipse\n",
            "G_test.jpg    Rectangle\n",
            "K_test.jpg     Triangle\n",
            "V_test.jpg     Triangle\n",
            "B_test.jpg         Move\n",
            "R_test.jpg       Delete\n",
            "Name: Command, dtype: object\n",
            "                   0         1             2  ...        60        61        62\n",
            "L_test.jpg  0.194117  0.781227 -3.367010e-09  ...  0.156872  0.606071 -0.037719\n",
            "S_test.jpg  0.388679  0.652530 -8.099632e-07  ...  0.304713  0.491797 -0.021766\n",
            "G_test.jpg  0.599978  0.740450  8.364248e-08  ...  0.473065  0.757525 -0.110142\n",
            "K_test.jpg  0.491627  0.935984  1.253898e-06  ...  0.411350  0.800293 -0.094555\n",
            "V_test.jpg  0.242814  0.957717  2.113625e-06  ...  0.170084  0.777523 -0.150767\n",
            "B_test.jpg  0.619207  0.840809  1.638815e-06  ...  0.418085  0.324503  0.012467\n",
            "R_test.jpg  0.278777  0.884406  1.402875e-06  ...  0.215812  0.700789 -0.141390\n",
            "\n",
            "[7 rows x 63 columns]\n"
          ]
        }
      ]
    },
    {
      "cell_type": "markdown",
      "metadata": {
        "id": "L2uM5eCgB-QN"
      },
      "source": [
        "## Predict test images"
      ]
    },
    {
      "cell_type": "code",
      "metadata": {
        "colab": {
          "base_uri": "https://localhost:8080/"
        },
        "id": "lV4U1mzLCLFJ",
        "outputId": "a71916d3-840b-49fa-eec9-8c1474cc0bbb"
      },
      "source": [
        "print(rfc.score(x_train, y_train))\n",
        "print(rfc.score(x_test, y_test))\n",
        "\n",
        "print(rfc.predict(x_test))"
      ],
      "execution_count": 10,
      "outputs": [
        {
          "output_type": "stream",
          "name": "stdout",
          "text": [
            "1.0\n",
            "1.0\n",
            "['Line' 'Ellipse' 'Rectangle' 'Triangle' 'Triangle' 'Move' 'Delete']\n"
          ]
        }
      ]
    },
    {
      "cell_type": "markdown",
      "metadata": {
        "id": "Zgvg8-i3DQf1"
      },
      "source": [
        "## Save model to file"
      ]
    },
    {
      "cell_type": "code",
      "metadata": {
        "id": "nDTeDL34DSHs"
      },
      "source": [
        "import pickle\n",
        "\n",
        "with open('hand_recognition_model.pkl', 'wb') as file:\n",
        "    pickle.dump(rfc, file)"
      ],
      "execution_count": 11,
      "outputs": []
    },
    {
      "cell_type": "code",
      "metadata": {
        "id": "ni--5pH_D4KQ"
      },
      "source": [
        "!mv \"hand_recognition_model.pkl\" \"drive/MyDrive/MAISFinalProject/hand_recognition_model.pkl\""
      ],
      "execution_count": 12,
      "outputs": []
    }
  ]
}