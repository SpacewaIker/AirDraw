{
  "nbformat": 4,
  "nbformat_minor": 0,
  "metadata": {
    "colab": {
      "name": "hand recognition model.ipynb",
      "provenance": []
    },
    "kernelspec": {
      "name": "python3",
      "display_name": "Python 3"
    },
    "language_info": {
      "name": "python"
    }
  },
  "cells": [
    {
      "cell_type": "markdown",
      "metadata": {
        "id": "QsXbawa_pDU-"
      },
      "source": [
        "# Hand recognition model\n",
        "This code uses a random forest classifier"
      ]
    },
    {
      "cell_type": "markdown",
      "metadata": {
        "id": "oJYVjxicoHbl"
      },
      "source": [
        "## Imports"
      ]
    },
    {
      "cell_type": "code",
      "metadata": {
        "id": "7jXTEHw0oJPh",
        "colab": {
          "base_uri": "https://localhost:8080/"
        },
        "outputId": "b48c30d5-7610-46d0-c991-2d43fee0eb54"
      },
      "source": [
        "!pip install --upgrade sklearn\n",
        "\n",
        "import pandas as pd\n",
        "import numpy as np\n",
        "import sklearn.ensemble as ensemble"
      ],
      "execution_count": 15,
      "outputs": [
        {
          "output_type": "stream",
          "name": "stdout",
          "text": [
            "Requirement already satisfied: sklearn in /usr/local/lib/python3.7/dist-packages (0.0)\n",
            "Requirement already satisfied: scikit-learn in /usr/local/lib/python3.7/dist-packages (from sklearn) (1.0.1)\n",
            "Requirement already satisfied: threadpoolctl>=2.0.0 in /usr/local/lib/python3.7/dist-packages (from scikit-learn->sklearn) (3.0.0)\n",
            "Requirement already satisfied: scipy>=1.1.0 in /usr/local/lib/python3.7/dist-packages (from scikit-learn->sklearn) (1.4.1)\n",
            "Requirement already satisfied: numpy>=1.14.6 in /usr/local/lib/python3.7/dist-packages (from scikit-learn->sklearn) (1.19.5)\n",
            "Requirement already satisfied: joblib>=0.11 in /usr/local/lib/python3.7/dist-packages (from scikit-learn->sklearn) (1.1.0)\n"
          ]
        }
      ]
    },
    {
      "cell_type": "markdown",
      "metadata": {
        "id": "Gh86x7JMou2-"
      },
      "source": [
        "## Get preprocessed data"
      ]
    },
    {
      "cell_type": "code",
      "metadata": {
        "colab": {
          "base_uri": "https://localhost:8080/"
        },
        "id": "wBOILnlEoutB",
        "outputId": "caceb4bd-0f34-4d99-844a-75d9ba45b169"
      },
      "source": [
        "!wget https://raw.githubusercontent.com/SpacewaIker/AirDraw/main/train_x.csv\n",
        "!wget https://raw.githubusercontent.com/SpacewaIker/AirDraw/main/test_x.csv"
      ],
      "execution_count": 17,
      "outputs": [
        {
          "output_type": "stream",
          "name": "stdout",
          "text": [
            "--2021-11-16 16:00:43--  https://raw.githubusercontent.com/SpacewaIker/AirDraw/main/train_x.csv\n",
            "Resolving raw.githubusercontent.com (raw.githubusercontent.com)... 185.199.109.133, 185.199.108.133, 185.199.111.133, ...\n",
            "Connecting to raw.githubusercontent.com (raw.githubusercontent.com)|185.199.109.133|:443... connected.\n",
            "HTTP request sent, awaiting response... 200 OK\n",
            "Length: 19531507 (19M) [text/plain]\n",
            "Saving to: ‘train_x.csv’\n",
            "\n",
            "train_x.csv         100%[===================>]  18.63M   123MB/s    in 0.2s    \n",
            "\n",
            "2021-11-16 16:00:43 (123 MB/s) - ‘train_x.csv’ saved [19531507/19531507]\n",
            "\n",
            "--2021-11-16 16:00:43--  https://raw.githubusercontent.com/SpacewaIker/AirDraw/main/test_x.csv\n",
            "Resolving raw.githubusercontent.com (raw.githubusercontent.com)... 185.199.110.133, 185.199.109.133, 185.199.111.133, ...\n",
            "Connecting to raw.githubusercontent.com (raw.githubusercontent.com)|185.199.110.133|:443... connected.\n",
            "HTTP request sent, awaiting response... 200 OK\n",
            "Length: 2164251 (2.1M) [text/plain]\n",
            "Saving to: ‘test_x.csv’\n",
            "\n",
            "test_x.csv          100%[===================>]   2.06M  --.-KB/s    in 0.06s   \n",
            "\n",
            "2021-11-16 16:00:44 (36.0 MB/s) - ‘test_x.csv’ saved [2164251/2164251]\n",
            "\n"
          ]
        }
      ]
    },
    {
      "cell_type": "code",
      "metadata": {
        "colab": {
          "base_uri": "https://localhost:8080/"
        },
        "id": "wO567zX7p-kh",
        "outputId": "a2818458-4f1f-4af3-9001-880833c30387"
      },
      "source": [
        "train_x = pd.read_csv('train_x.csv', index_col=0)\n",
        "train_x.dropna(inplace=True)\n",
        "\n",
        "print(train_x.info())\n",
        "print(train_x)"
      ],
      "execution_count": 18,
      "outputs": [
        {
          "output_type": "stream",
          "name": "stdout",
          "text": [
            "<class 'pandas.core.frame.DataFrame'>\n",
            "Index: 16200 entries, A/A1.jpg to V/V998.jpg\n",
            "Data columns (total 64 columns):\n",
            " #   Column   Non-Null Count  Dtype  \n",
            "---  ------   --------------  -----  \n",
            " 0   Command  16200 non-null  object \n",
            " 1   0        16200 non-null  float64\n",
            " 2   1        16200 non-null  float64\n",
            " 3   2        16200 non-null  float64\n",
            " 4   3        16200 non-null  float64\n",
            " 5   4        16200 non-null  float64\n",
            " 6   5        16200 non-null  float64\n",
            " 7   6        16200 non-null  float64\n",
            " 8   7        16200 non-null  float64\n",
            " 9   8        16200 non-null  float64\n",
            " 10  9        16200 non-null  float64\n",
            " 11  10       16200 non-null  float64\n",
            " 12  11       16200 non-null  float64\n",
            " 13  12       16200 non-null  float64\n",
            " 14  13       16200 non-null  float64\n",
            " 15  14       16200 non-null  float64\n",
            " 16  15       16200 non-null  float64\n",
            " 17  16       16200 non-null  float64\n",
            " 18  17       16200 non-null  float64\n",
            " 19  18       16200 non-null  float64\n",
            " 20  19       16200 non-null  float64\n",
            " 21  20       16200 non-null  float64\n",
            " 22  21       16200 non-null  float64\n",
            " 23  22       16200 non-null  float64\n",
            " 24  23       16200 non-null  float64\n",
            " 25  24       16200 non-null  float64\n",
            " 26  25       16200 non-null  float64\n",
            " 27  26       16200 non-null  float64\n",
            " 28  27       16200 non-null  float64\n",
            " 29  28       16200 non-null  float64\n",
            " 30  29       16200 non-null  float64\n",
            " 31  30       16200 non-null  float64\n",
            " 32  31       16200 non-null  float64\n",
            " 33  32       16200 non-null  float64\n",
            " 34  33       16200 non-null  float64\n",
            " 35  34       16200 non-null  float64\n",
            " 36  35       16200 non-null  float64\n",
            " 37  36       16200 non-null  float64\n",
            " 38  37       16200 non-null  float64\n",
            " 39  38       16200 non-null  float64\n",
            " 40  39       16200 non-null  float64\n",
            " 41  40       16200 non-null  float64\n",
            " 42  41       16200 non-null  float64\n",
            " 43  42       16200 non-null  float64\n",
            " 44  43       16200 non-null  float64\n",
            " 45  44       16200 non-null  float64\n",
            " 46  45       16200 non-null  float64\n",
            " 47  46       16200 non-null  float64\n",
            " 48  47       16200 non-null  float64\n",
            " 49  48       16200 non-null  float64\n",
            " 50  49       16200 non-null  float64\n",
            " 51  50       16200 non-null  float64\n",
            " 52  51       16200 non-null  float64\n",
            " 53  52       16200 non-null  float64\n",
            " 54  53       16200 non-null  float64\n",
            " 55  54       16200 non-null  float64\n",
            " 56  55       16200 non-null  float64\n",
            " 57  56       16200 non-null  float64\n",
            " 58  57       16200 non-null  float64\n",
            " 59  58       16200 non-null  float64\n",
            " 60  59       16200 non-null  float64\n",
            " 61  60       16200 non-null  float64\n",
            " 62  61       16200 non-null  float64\n",
            " 63  62       16200 non-null  float64\n",
            "dtypes: float64(63), object(1)\n",
            "memory usage: 8.0+ MB\n",
            "None\n",
            "              Command         0         1  ...        60        61        62\n",
            "File                                       ...                              \n",
            "A/A1.jpg      Ellipse -0.003756  0.080883  ... -0.012595  0.045449 -0.023966\n",
            "A/A10.jpg     Ellipse -0.005596  0.080807  ... -0.010209  0.049343 -0.019856\n",
            "A/A100.jpg    Ellipse  0.000000  0.000000  ...  0.000000  0.000000  0.000000\n",
            "A/A1000.jpg   Ellipse -0.002892  0.081772  ... -0.026531  0.037126 -0.027262\n",
            "A/A1001.jpg   Ellipse  0.005875  0.083854  ... -0.011564  0.046879 -0.030367\n",
            "...               ...       ...       ...  ...       ...       ...       ...\n",
            "V/V989.jpg   Triangle  0.007171  0.090853  ... -0.012653  0.039348 -0.019005\n",
            "V/V99.jpg    Triangle  0.000453  0.084601  ... -0.013265  0.031576 -0.022190\n",
            "V/V990.jpg   Triangle  0.008918  0.090453  ... -0.012972  0.038318 -0.018570\n",
            "V/V996.jpg   Triangle  0.010703  0.088921  ... -0.012597  0.037550 -0.019387\n",
            "V/V998.jpg   Triangle  0.008637  0.089558  ... -0.013161  0.035479 -0.019120\n",
            "\n",
            "[16200 rows x 64 columns]\n"
          ]
        }
      ]
    },
    {
      "cell_type": "code",
      "metadata": {
        "colab": {
          "base_uri": "https://localhost:8080/"
        },
        "id": "_vWTh6tmq-CG",
        "outputId": "d71c889b-e9e9-4c1c-c26e-3413220d2c3f"
      },
      "source": [
        "# get array with labels only\n",
        "y_train = train_x['Command']\n",
        "\n",
        "# get array with features only and drop NaNs\n",
        "x_train = train_x.iloc[:, 1:64]\n",
        "\n",
        "print(y_train)\n",
        "print(x_train)"
      ],
      "execution_count": 19,
      "outputs": [
        {
          "output_type": "stream",
          "name": "stdout",
          "text": [
            "File\n",
            "A/A1.jpg        Ellipse\n",
            "A/A10.jpg       Ellipse\n",
            "A/A100.jpg      Ellipse\n",
            "A/A1000.jpg     Ellipse\n",
            "A/A1001.jpg     Ellipse\n",
            "                 ...   \n",
            "V/V989.jpg     Triangle\n",
            "V/V99.jpg      Triangle\n",
            "V/V990.jpg     Triangle\n",
            "V/V996.jpg     Triangle\n",
            "V/V998.jpg     Triangle\n",
            "Name: Command, Length: 16200, dtype: object\n",
            "                    0         1         2  ...        60        61        62\n",
            "File                                       ...                              \n",
            "A/A1.jpg    -0.003756  0.080883  0.032612  ... -0.012595  0.045449 -0.023966\n",
            "A/A10.jpg   -0.005596  0.080807  0.045561  ... -0.010209  0.049343 -0.019856\n",
            "A/A100.jpg   0.000000  0.000000  0.000000  ...  0.000000  0.000000  0.000000\n",
            "A/A1000.jpg -0.002892  0.081772  0.033408  ... -0.026531  0.037126 -0.027262\n",
            "A/A1001.jpg  0.005875  0.083854  0.030589  ... -0.011564  0.046879 -0.030367\n",
            "...               ...       ...       ...  ...       ...       ...       ...\n",
            "V/V989.jpg   0.007171  0.090853  0.021682  ... -0.012653  0.039348 -0.019005\n",
            "V/V99.jpg    0.000453  0.084601 -0.023020  ... -0.013265  0.031576 -0.022190\n",
            "V/V990.jpg   0.008918  0.090453  0.017762  ... -0.012972  0.038318 -0.018570\n",
            "V/V996.jpg   0.010703  0.088921  0.019245  ... -0.012597  0.037550 -0.019387\n",
            "V/V998.jpg   0.008637  0.089558  0.017058  ... -0.013161  0.035479 -0.019120\n",
            "\n",
            "[16200 rows x 63 columns]\n"
          ]
        }
      ]
    },
    {
      "cell_type": "markdown",
      "metadata": {
        "id": "OyWH6ayXqr-O"
      },
      "source": [
        "## Random Forest Classifier"
      ]
    },
    {
      "cell_type": "code",
      "metadata": {
        "id": "EFJKaHRLquOG",
        "colab": {
          "base_uri": "https://localhost:8080/"
        },
        "outputId": "cdff212a-9baa-418b-8501-18ead0a9d129"
      },
      "source": [
        "rfc = ensemble.RandomForestClassifier()\n",
        "rfc.fit(x_train, y_train)"
      ],
      "execution_count": 20,
      "outputs": [
        {
          "output_type": "execute_result",
          "data": {
            "text/plain": [
              "RandomForestClassifier()"
            ]
          },
          "metadata": {},
          "execution_count": 20
        }
      ]
    },
    {
      "cell_type": "markdown",
      "metadata": {
        "id": "0wHZr1yM_h5G"
      },
      "source": [
        "## Preprocess testing images"
      ]
    },
    {
      "cell_type": "code",
      "metadata": {
        "colab": {
          "base_uri": "https://localhost:8080/"
        },
        "id": "CB_hbafa6sSA",
        "collapsed": true,
        "outputId": "a61b4031-8b19-4e03-d56f-648245f113e4"
      },
      "source": [
        "test_x = pd.read_csv('test_x.csv', index_col=0)\n",
        "test_x.dropna(inplace=True)\n",
        "\n",
        "print(test_x.info())\n",
        "print(test_x)"
      ],
      "execution_count": 21,
      "outputs": [
        {
          "output_type": "stream",
          "name": "stdout",
          "text": [
            "<class 'pandas.core.frame.DataFrame'>\n",
            "Index: 1800 entries, A/A1004.jpg to V/V999.jpg\n",
            "Data columns (total 64 columns):\n",
            " #   Column   Non-Null Count  Dtype  \n",
            "---  ------   --------------  -----  \n",
            " 0   Command  1800 non-null   object \n",
            " 1   0        1800 non-null   float64\n",
            " 2   1        1800 non-null   float64\n",
            " 3   2        1800 non-null   float64\n",
            " 4   3        1800 non-null   float64\n",
            " 5   4        1800 non-null   float64\n",
            " 6   5        1800 non-null   float64\n",
            " 7   6        1800 non-null   float64\n",
            " 8   7        1800 non-null   float64\n",
            " 9   8        1800 non-null   float64\n",
            " 10  9        1800 non-null   float64\n",
            " 11  10       1800 non-null   float64\n",
            " 12  11       1800 non-null   float64\n",
            " 13  12       1800 non-null   float64\n",
            " 14  13       1800 non-null   float64\n",
            " 15  14       1800 non-null   float64\n",
            " 16  15       1800 non-null   float64\n",
            " 17  16       1800 non-null   float64\n",
            " 18  17       1800 non-null   float64\n",
            " 19  18       1800 non-null   float64\n",
            " 20  19       1800 non-null   float64\n",
            " 21  20       1800 non-null   float64\n",
            " 22  21       1800 non-null   float64\n",
            " 23  22       1800 non-null   float64\n",
            " 24  23       1800 non-null   float64\n",
            " 25  24       1800 non-null   float64\n",
            " 26  25       1800 non-null   float64\n",
            " 27  26       1800 non-null   float64\n",
            " 28  27       1800 non-null   float64\n",
            " 29  28       1800 non-null   float64\n",
            " 30  29       1800 non-null   float64\n",
            " 31  30       1800 non-null   float64\n",
            " 32  31       1800 non-null   float64\n",
            " 33  32       1800 non-null   float64\n",
            " 34  33       1800 non-null   float64\n",
            " 35  34       1800 non-null   float64\n",
            " 36  35       1800 non-null   float64\n",
            " 37  36       1800 non-null   float64\n",
            " 38  37       1800 non-null   float64\n",
            " 39  38       1800 non-null   float64\n",
            " 40  39       1800 non-null   float64\n",
            " 41  40       1800 non-null   float64\n",
            " 42  41       1800 non-null   float64\n",
            " 43  42       1800 non-null   float64\n",
            " 44  43       1800 non-null   float64\n",
            " 45  44       1800 non-null   float64\n",
            " 46  45       1800 non-null   float64\n",
            " 47  46       1800 non-null   float64\n",
            " 48  47       1800 non-null   float64\n",
            " 49  48       1800 non-null   float64\n",
            " 50  49       1800 non-null   float64\n",
            " 51  50       1800 non-null   float64\n",
            " 52  51       1800 non-null   float64\n",
            " 53  52       1800 non-null   float64\n",
            " 54  53       1800 non-null   float64\n",
            " 55  54       1800 non-null   float64\n",
            " 56  55       1800 non-null   float64\n",
            " 57  56       1800 non-null   float64\n",
            " 58  57       1800 non-null   float64\n",
            " 59  58       1800 non-null   float64\n",
            " 60  59       1800 non-null   float64\n",
            " 61  60       1800 non-null   float64\n",
            " 62  61       1800 non-null   float64\n",
            " 63  62       1800 non-null   float64\n",
            "dtypes: float64(63), object(1)\n",
            "memory usage: 914.1+ KB\n",
            "None\n",
            "              Command         0         1  ...        60        61        62\n",
            "File                                       ...                              \n",
            "A/A1004.jpg   Ellipse  0.001602  0.085208  ... -0.013341  0.045383 -0.031744\n",
            "A/A1014.jpg   Ellipse -0.005892  0.079259  ... -0.023837  0.040704 -0.029033\n",
            "A/A1072.jpg   Ellipse -0.007961  0.076523  ... -0.021562  0.037372 -0.028781\n",
            "A/A1078.jpg   Ellipse -0.006064  0.079812  ... -0.019958  0.039224 -0.030387\n",
            "A/A1085.jpg   Ellipse -0.009182  0.083030  ... -0.022091  0.036009 -0.032164\n",
            "...               ...       ...       ...  ...       ...       ...       ...\n",
            "V/V993.jpg   Triangle  0.009097  0.091313  ... -0.012648  0.037592 -0.019617\n",
            "V/V994.jpg   Triangle  0.009953  0.090391  ... -0.013048  0.037309 -0.020766\n",
            "V/V995.jpg   Triangle  0.011002  0.089892  ... -0.011645  0.038984 -0.018921\n",
            "V/V997.jpg   Triangle  0.010816  0.089882  ... -0.013715  0.036473 -0.019262\n",
            "V/V999.jpg   Triangle  0.010636  0.089711  ... -0.012497  0.036150 -0.016871\n",
            "\n",
            "[1800 rows x 64 columns]\n"
          ]
        }
      ]
    },
    {
      "cell_type": "code",
      "metadata": {
        "colab": {
          "base_uri": "https://localhost:8080/"
        },
        "id": "dyXDiGnB6xsq",
        "collapsed": true,
        "outputId": "85b47d32-9c1b-486a-d410-cb3ce6435c9d"
      },
      "source": [
        "# get array with labels only\n",
        "y_test = test_x['Command']\n",
        "\n",
        "# get array with features only and drop NaNs\n",
        "x_test = test_x.iloc[:, 1:64]\n",
        "\n",
        "print(y_test)\n",
        "print(x_test)"
      ],
      "execution_count": 22,
      "outputs": [
        {
          "output_type": "stream",
          "name": "stdout",
          "text": [
            "File\n",
            "A/A1004.jpg     Ellipse\n",
            "A/A1014.jpg     Ellipse\n",
            "A/A1072.jpg     Ellipse\n",
            "A/A1078.jpg     Ellipse\n",
            "A/A1085.jpg     Ellipse\n",
            "                 ...   \n",
            "V/V993.jpg     Triangle\n",
            "V/V994.jpg     Triangle\n",
            "V/V995.jpg     Triangle\n",
            "V/V997.jpg     Triangle\n",
            "V/V999.jpg     Triangle\n",
            "Name: Command, Length: 1800, dtype: object\n",
            "                    0         1         2  ...        60        61        62\n",
            "File                                       ...                              \n",
            "A/A1004.jpg  0.001602  0.085208  0.026555  ... -0.013341  0.045383 -0.031744\n",
            "A/A1014.jpg -0.005892  0.079259  0.026053  ... -0.023837  0.040704 -0.029033\n",
            "A/A1072.jpg -0.007961  0.076523  0.025876  ... -0.021562  0.037372 -0.028781\n",
            "A/A1078.jpg -0.006064  0.079812  0.028786  ... -0.019958  0.039224 -0.030387\n",
            "A/A1085.jpg -0.009182  0.083030  0.019311  ... -0.022091  0.036009 -0.032164\n",
            "...               ...       ...       ...  ...       ...       ...       ...\n",
            "V/V993.jpg   0.009097  0.091313  0.018784  ... -0.012648  0.037592 -0.019617\n",
            "V/V994.jpg   0.009953  0.090391  0.015926  ... -0.013048  0.037309 -0.020766\n",
            "V/V995.jpg   0.011002  0.089892  0.020682  ... -0.011645  0.038984 -0.018921\n",
            "V/V997.jpg   0.010816  0.089882  0.020574  ... -0.013715  0.036473 -0.019262\n",
            "V/V999.jpg   0.010636  0.089711  0.020096  ... -0.012497  0.036150 -0.016871\n",
            "\n",
            "[1800 rows x 63 columns]\n"
          ]
        }
      ]
    },
    {
      "cell_type": "markdown",
      "metadata": {
        "id": "L2uM5eCgB-QN"
      },
      "source": [
        "## Predict test images"
      ]
    },
    {
      "cell_type": "code",
      "metadata": {
        "colab": {
          "base_uri": "https://localhost:8080/"
        },
        "id": "lV4U1mzLCLFJ",
        "outputId": "518aafb9-2289-4b76-f24a-73771b4ad285"
      },
      "source": [
        "print('Training accuracy: ' + str(rfc.score(x_train, y_train)))\n",
        "print('Testing accuracy: ' + str(rfc.score(x_test, y_test)))\n",
        "\n",
        "y_pred = rfc.predict(x_test)"
      ],
      "execution_count": 23,
      "outputs": [
        {
          "output_type": "stream",
          "name": "stdout",
          "text": [
            "Training accuracy: 0.8991975308641975\n",
            "Testing accuracy: 0.9016666666666666\n"
          ]
        }
      ]
    },
    {
      "cell_type": "markdown",
      "metadata": {
        "id": "oZZ8teBsF1jS"
      },
      "source": [
        "## Confusion matrix"
      ]
    },
    {
      "cell_type": "code",
      "metadata": {
        "colab": {
          "base_uri": "https://localhost:8080/"
        },
        "id": "okxkAIXSF301",
        "outputId": "13c9b0e3-e18f-4704-b8d1-dc3a742c77c6"
      },
      "source": [
        "import sklearn.metrics as metrics\n",
        "from matplotlib import pyplot as plt\n",
        "\n",
        "labels = ['Line', 'Ellipse', 'Rectangle', 'Triangle', 'Move', 'Delete']\n",
        "\n",
        "conf_matrix = metrics.confusion_matrix(y_test, y_pred, labels=labels)\n",
        "print(conf_matrix)"
      ],
      "execution_count": 28,
      "outputs": [
        {
          "output_type": "stream",
          "name": "stdout",
          "text": [
            "[[263   1   0   0  32   0]\n",
            " [  0 286   0   0  35   0]\n",
            " [  0   0 243   0  50   0]\n",
            " [  0   0   0 273  25   0]\n",
            " [  0   0   1   0 302   0]\n",
            " [  0   0   0   0  33 256]]\n"
          ]
        }
      ]
    },
    {
      "cell_type": "markdown",
      "metadata": {
        "id": "Zgvg8-i3DQf1"
      },
      "source": [
        "## Save model to file"
      ]
    },
    {
      "cell_type": "code",
      "metadata": {
        "id": "nDTeDL34DSHs"
      },
      "source": [
        "import pickle\n",
        "\n",
        "with open('hand_recognition_model.pkl', 'wb') as file:\n",
        "    pickle.dump(rfc, file)"
      ],
      "execution_count": 29,
      "outputs": []
    },
    {
      "cell_type": "code",
      "metadata": {
        "id": "ni--5pH_D4KQ"
      },
      "source": [
        "!mv \"hand_recognition_model.pkl\" \"drive/MyDrive/MAISFinalProject/hand_recognition_model.pkl\""
      ],
      "execution_count": 30,
      "outputs": []
    }
  ]
}
