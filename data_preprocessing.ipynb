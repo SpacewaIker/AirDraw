{
  "nbformat": 4,
  "nbformat_minor": 0,
  "metadata": {
    "colab": {
      "name": "data preprocessing.ipynb",
      "provenance": []
    },
    "kernelspec": {
      "name": "python3",
      "display_name": "Python 3"
    },
    "language_info": {
      "name": "python"
    }
  },
  "cells": [
    {
      "cell_type": "markdown",
      "metadata": {
        "id": "HkiMZXJ2463s"
      },
      "source": [
        "# Data preprocessing\n",
        "\n",
        "The code in this notebook takes the input pictures and applies the mediapipe hands solution to find the relevant coordinates and saves them as a .csv file which can be used by the AI model to train."
      ]
    },
    {
      "cell_type": "markdown",
      "metadata": {
        "id": "htEFPb1rq3Ad"
      },
      "source": [
        "## Imports"
      ]
    },
    {
      "cell_type": "code",
      "metadata": {
        "colab": {
          "base_uri": "https://localhost:8080/"
        },
        "id": "dydGo9tI43jE",
        "outputId": "4b97a3dc-b244-4767-9df1-9b3cb03d1151"
      },
      "source": [
        "!pip install mediapipe\n",
        "\n",
        "import pandas as pd\n",
        "import cv2\n",
        "import mediapipe as mp\n",
        "import pandas as pd"
      ],
      "execution_count": 1,
      "outputs": [
        {
          "output_type": "stream",
          "name": "stdout",
          "text": [
            "Collecting mediapipe\n",
            "  Downloading mediapipe-0.8.9-cp37-cp37m-manylinux_2_17_x86_64.manylinux2014_x86_64.whl (32.8 MB)\n",
            "\u001b[K     |████████████████████████████████| 32.8 MB 52 kB/s \n",
            "\u001b[?25hRequirement already satisfied: matplotlib in /usr/local/lib/python3.7/dist-packages (from mediapipe) (3.2.2)\n",
            "Requirement already satisfied: attrs>=19.1.0 in /usr/local/lib/python3.7/dist-packages (from mediapipe) (21.2.0)\n",
            "Requirement already satisfied: six in /usr/local/lib/python3.7/dist-packages (from mediapipe) (1.15.0)\n",
            "Requirement already satisfied: opencv-contrib-python in /usr/local/lib/python3.7/dist-packages (from mediapipe) (4.1.2.30)\n",
            "Requirement already satisfied: protobuf>=3.11.4 in /usr/local/lib/python3.7/dist-packages (from mediapipe) (3.17.3)\n",
            "Requirement already satisfied: numpy in /usr/local/lib/python3.7/dist-packages (from mediapipe) (1.19.5)\n",
            "Requirement already satisfied: wheel in /usr/local/lib/python3.7/dist-packages (from mediapipe) (0.37.0)\n",
            "Requirement already satisfied: absl-py in /usr/local/lib/python3.7/dist-packages (from mediapipe) (0.12.0)\n",
            "Requirement already satisfied: cycler>=0.10 in /usr/local/lib/python3.7/dist-packages (from matplotlib->mediapipe) (0.10.0)\n",
            "Requirement already satisfied: python-dateutil>=2.1 in /usr/local/lib/python3.7/dist-packages (from matplotlib->mediapipe) (2.8.2)\n",
            "Requirement already satisfied: pyparsing!=2.0.4,!=2.1.2,!=2.1.6,>=2.0.1 in /usr/local/lib/python3.7/dist-packages (from matplotlib->mediapipe) (2.4.7)\n",
            "Requirement already satisfied: kiwisolver>=1.0.1 in /usr/local/lib/python3.7/dist-packages (from matplotlib->mediapipe) (1.3.2)\n",
            "Installing collected packages: mediapipe\n",
            "Successfully installed mediapipe-0.8.9\n"
          ]
        }
      ]
    },
    {
      "cell_type": "markdown",
      "metadata": {
        "id": "lRrqeYMUq6SM"
      },
      "source": [
        "## Download database"
      ]
    },
    {
      "cell_type": "code",
      "metadata": {
        "colab": {
          "base_uri": "https://localhost:8080/"
        },
        "id": "Y328uPuRq9XX",
        "outputId": "0c162f5a-6163-4a87-fd34-d64a60ede385"
      },
      "source": [
        "!pip install kaggle\n",
        "# kaggle API\n",
        "!echo '{\"username\":\"spacewaiker\",\"key\":\"062bca10262b87f5b8498c589cdc65c6\"}' > ~/.kaggle/kaggle.json"
      ],
      "execution_count": 8,
      "outputs": [
        {
          "output_type": "stream",
          "name": "stdout",
          "text": [
            "Requirement already satisfied: kaggle in /usr/local/lib/python3.7/dist-packages (1.5.12)\n",
            "Requirement already satisfied: certifi in /usr/local/lib/python3.7/dist-packages (from kaggle) (2021.5.30)\n",
            "Requirement already satisfied: requests in /usr/local/lib/python3.7/dist-packages (from kaggle) (2.23.0)\n",
            "Requirement already satisfied: urllib3 in /usr/local/lib/python3.7/dist-packages (from kaggle) (1.24.3)\n",
            "Requirement already satisfied: python-dateutil in /usr/local/lib/python3.7/dist-packages (from kaggle) (2.8.2)\n",
            "Requirement already satisfied: python-slugify in /usr/local/lib/python3.7/dist-packages (from kaggle) (5.0.2)\n",
            "Requirement already satisfied: six>=1.10 in /usr/local/lib/python3.7/dist-packages (from kaggle) (1.15.0)\n",
            "Requirement already satisfied: tqdm in /usr/local/lib/python3.7/dist-packages (from kaggle) (4.62.3)\n",
            "Requirement already satisfied: text-unidecode>=1.3 in /usr/local/lib/python3.7/dist-packages (from python-slugify->kaggle) (1.3)\n",
            "Requirement already satisfied: chardet<4,>=3.0.2 in /usr/local/lib/python3.7/dist-packages (from requests->kaggle) (3.0.4)\n",
            "Requirement already satisfied: idna<3,>=2.5 in /usr/local/lib/python3.7/dist-packages (from requests->kaggle) (2.10)\n"
          ]
        }
      ]
    },
    {
      "cell_type": "code",
      "metadata": {
        "colab": {
          "base_uri": "https://localhost:8080/"
        },
        "id": "zh9gQLp91dtI",
        "outputId": "f4a85718-d529-4fff-db75-1994772cac3a"
      },
      "source": [
        "# download dataset:\n",
        "!kaggle datasets download grassknoted/asl-alphabet\n",
        "# extract files (-q disables writing status message for every file)\n",
        "!unzip -q asl-alphabet.zip\n",
        "!ls"
      ],
      "execution_count": 9,
      "outputs": [
        {
          "output_type": "stream",
          "name": "stdout",
          "text": [
            "Warning: Your Kaggle API key is readable by other users on this system! To fix this, you can run 'chmod 600 /root/.kaggle/kaggle.json'\n",
            "Downloading asl-alphabet.zip to /content\n",
            " 99% 1.01G/1.03G [00:08<00:00, 163MB/s]\n",
            "100% 1.03G/1.03G [00:08<00:00, 132MB/s]\n",
            "asl_alphabet_test  asl_alphabet_train  asl-alphabet.zip  drive\tsample_data\n"
          ]
        }
      ]
    },
    {
      "cell_type": "markdown",
      "metadata": {
        "id": "lXOXezV_wArw"
      },
      "source": [
        "Symbols:\n",
        "\n",
        "|Command  |ASL letters|Sign           |\n",
        "|---------|-----------|---------------|\n",
        "|Line     |L          |\"L\" shape      |\n",
        "|Ellipse  |A, S       |Fist           |\n",
        "|Rectangle|G          |Point right    |\n",
        "|Triangle |K, V       |Two fingers up |\n",
        "|Move     |B          |Palm           |\n",
        "|Delete   |R          |Crossed fingers|"
      ]
    },
    {
      "cell_type": "markdown",
      "metadata": {
        "id": "vLDSnh42S_YE"
      },
      "source": [
        "## Define functions to use later"
      ]
    },
    {
      "cell_type": "code",
      "metadata": {
        "id": "Az7MI8CeyzzW"
      },
      "source": [
        "'''\n",
        "Function to return the file names with the following format:\n",
        "A/A1234.jpg     if letter = 'A'  and   i = 1234\n",
        "'''\n",
        "def get_file_names(letter, begin, end):\n",
        "    files = []\n",
        "    for i in range(begin, end+1):\n",
        "        files.append(f'{letter}/{letter}{i}.jpg')\n",
        "    \n",
        "    return files\n",
        "\n",
        "'''\n",
        "Function that applies the mediapipe hands solution to an image.\n",
        "img is the image file name and hands is the hands instance to use\n",
        "'''\n",
        "def apply_hands(row):\n",
        "    global hands\n",
        "    img = row.name\n",
        "    result = row.copy()\n",
        "\n",
        "    image = cv2.imread(DIR + img)\n",
        "    image = cv2.cvtColor(image, cv2.COLOR_BGR2RGB)\n",
        "    \n",
        "    landmk = hands.process(image).multi_hand_world_landmarks\n",
        "\n",
        "    if landmk:    # success\n",
        "        landmarks = landmk[0]\n",
        "        list_tuples = [(i.x, i.y, i.z) for i in landmarks.landmark]\n",
        "        result[1:64] = [i for t in list_tuples for i in t]\n",
        "\n",
        "    return result"
      ],
      "execution_count": 10,
      "outputs": []
    },
    {
      "cell_type": "code",
      "metadata": {
        "id": "hgVWLAB750Yy",
        "colab": {
          "base_uri": "https://localhost:8080/"
        },
        "outputId": "f2e8aae4-9f0c-4dce-85cb-ab74ac245e0f"
      },
      "source": [
        "# Mediapipe stuff\n",
        "mp_hands = mp.solutions.hands\n",
        "mp_drawing = mp.solutions.drawing_utils\n",
        "mp_drawing_styles = mp.solutions.drawing_styles\n",
        "\n",
        "# get file names\n",
        "# only select the first 2900 files, as to leave 100 for the testing dataset\n",
        "file_names = pd.DataFrame()\n",
        "\n",
        "file_names = file_names.append([['Line',      file] for file in get_file_names('L', 1, 2900)])\n",
        "file_names = file_names.append([['Ellipse',   file] for file in get_file_names('A', 1, 1450) + get_file_names('S', 1, 1450)])\n",
        "file_names = file_names.append([['Rectangle', file] for file in get_file_names('G', 1, 2900)])\n",
        "file_names = file_names.append([['Triangle',  file] for file in get_file_names('K', 1, 1450) + get_file_names('V', 1, 1450)])\n",
        "file_names = file_names.append([['Move',      file] for file in get_file_names('B', 1, 2900)])\n",
        "file_names = file_names.append([['Delete',    file] for file in get_file_names('R', 1, 2900)])\n",
        "\n",
        "file_names.rename(columns={0: 'Command', 1: 'File'}, inplace=True)\n",
        "file_names.set_index('File', inplace=True)\n",
        "print(file_names)"
      ],
      "execution_count": 11,
      "outputs": [
        {
          "output_type": "stream",
          "name": "stdout",
          "text": [
            "            Command\n",
            "File               \n",
            "L/L1.jpg       Line\n",
            "L/L2.jpg       Line\n",
            "L/L3.jpg       Line\n",
            "L/L4.jpg       Line\n",
            "L/L5.jpg       Line\n",
            "...             ...\n",
            "R/R2896.jpg  Delete\n",
            "R/R2897.jpg  Delete\n",
            "R/R2898.jpg  Delete\n",
            "R/R2899.jpg  Delete\n",
            "R/R2900.jpg  Delete\n",
            "\n",
            "[17400 rows x 1 columns]\n"
          ]
        }
      ]
    },
    {
      "cell_type": "code",
      "metadata": {
        "colab": {
          "base_uri": "https://localhost:8080/"
        },
        "id": "jsEYFUd88Bpn",
        "outputId": "1e0faac1-bb23-46dc-b3a3-36e2ffc112bf"
      },
      "source": [
        "DIR = 'asl_alphabet_train/asl_alphabet_train/'\n",
        "\n",
        "cols = ['Command'] + [i for i in range(21*3)]\n",
        "train_x = pd.DataFrame(columns=cols, index=file_names.index)\n",
        "\n",
        "train_x['Command'] = file_names['Command']\n",
        "\n",
        "\n",
        "# Loop over every file:\n",
        "with mp_hands.Hands(\n",
        "    static_image_mode=True,\n",
        "    max_num_hands=1,\n",
        "    min_detection_confidence=0.3\n",
        ") as hands:\n",
        "    train_x = train_x.apply(apply_hands, axis=1)\n",
        "\n",
        "print(train_x)"
      ],
      "execution_count": 12,
      "outputs": [
        {
          "output_type": "stream",
          "name": "stdout",
          "text": [
            "            Command         0         1  ...        60        61        62\n",
            "File                                     ...                              \n",
            "L/L1.jpg       Line -0.029041  0.077856  ... -0.037617  0.031186 -0.024797\n",
            "L/L2.jpg       Line -0.030712  0.077171  ... -0.036257  0.028472 -0.026228\n",
            "L/L3.jpg       Line -0.032309  0.073458  ... -0.034835  0.028049 -0.026690\n",
            "L/L4.jpg       Line -0.032427  0.076893  ... -0.034228  0.028305 -0.025699\n",
            "L/L5.jpg       Line -0.034163  0.076618  ... -0.035511  0.031026 -0.027471\n",
            "...             ...       ...       ...  ...       ...       ...       ...\n",
            "R/R2896.jpg  Delete  0.013954  0.085491  ... -0.012614  0.030631 -0.026084\n",
            "R/R2897.jpg  Delete  0.003139  0.089351  ... -0.012169  0.025248 -0.029481\n",
            "R/R2898.jpg  Delete  0.010776  0.091557  ... -0.008634  0.037975 -0.027085\n",
            "R/R2899.jpg  Delete  0.011940  0.089052  ... -0.011437  0.030680 -0.026755\n",
            "R/R2900.jpg  Delete  0.012687  0.089746  ... -0.010888  0.034238 -0.025730\n",
            "\n",
            "[17400 rows x 64 columns]\n"
          ]
        }
      ]
    },
    {
      "cell_type": "code",
      "metadata": {
        "id": "6Mf1imiHM03h"
      },
      "source": [
        "train_x.to_csv(\"drive/MyDrive/MAISFinalProject/train_x.csv\")"
      ],
      "execution_count": 13,
      "outputs": []
    },
    {
      "cell_type": "markdown",
      "metadata": {
        "id": "M7UWIG345SXr"
      },
      "source": [
        "## Preprocess testing data"
      ]
    },
    {
      "cell_type": "code",
      "metadata": {
        "colab": {
          "base_uri": "https://localhost:8080/"
        },
        "id": "A9jqqRYF5SCk",
        "outputId": "778cdf88-9b17-4577-db08-8140e74d9c4b"
      },
      "source": [
        "# get file names\n",
        "# select the last 100 images\n",
        "file_train = pd.DataFrame()\n",
        "\n",
        "file_train = file_train.append([['Line',      file] for file in get_file_names('L', 2901, 3000)])\n",
        "file_train = file_train.append([['Ellipse',   file] for file in get_file_names('A', 2901, 2950) + get_file_names('S', 2901, 2950)])\n",
        "file_train = file_train.append([['Rectangle', file] for file in get_file_names('G', 2901, 3000)])\n",
        "file_train = file_train.append([['Triangle',  file] for file in get_file_names('K', 2901, 2950) + get_file_names('A', 2901, 2950)])\n",
        "file_train = file_train.append([['Move',      file] for file in get_file_names('B', 2901, 3000)])\n",
        "file_train = file_train.append([['Delete',    file] for file in get_file_names('R', 2901, 3000)])\n",
        "\n",
        "file_train.rename(columns={0: 'Command', 1: 'File'}, inplace=True)\n",
        "file_train.set_index('File', inplace=True)\n",
        "\n",
        "test_x = pd.DataFrame(columns=cols, index=file_train.index)\n",
        "\n",
        "test_x['Command'] = file_train['Command']\n",
        "\n",
        "# Loop over every file:\n",
        "with mp_hands.Hands(\n",
        "    static_image_mode=True,\n",
        "    max_num_hands=1,\n",
        "    min_detection_confidence=0.3\n",
        ") as hands:\n",
        "    test_x = test_x.apply(apply_hands, axis=1)\n",
        "\n",
        "print(test_x)"
      ],
      "execution_count": 19,
      "outputs": [
        {
          "output_type": "stream",
          "name": "stdout",
          "text": [
            "            Command         0         1  ...        60        61        62\n",
            "File                                     ...                              \n",
            "L/L2901.jpg    Line -0.026775  0.082416  ... -0.030209  0.019278 -0.036167\n",
            "L/L2902.jpg    Line -0.029573  0.081979  ... -0.029755  0.019623 -0.036395\n",
            "L/L2903.jpg    Line -0.028724  0.082270  ... -0.030055  0.018456 -0.035738\n",
            "L/L2904.jpg    Line -0.027211  0.083636  ... -0.029574  0.018555 -0.036874\n",
            "L/L2905.jpg    Line -0.029691  0.082440  ... -0.029960  0.018194 -0.035498\n",
            "...             ...       ...       ...  ...       ...       ...       ...\n",
            "R/R2996.jpg  Delete -0.007209  0.092140  ... -0.008528  0.031733 -0.034578\n",
            "R/R2997.jpg  Delete -0.006988  0.091541  ... -0.007468  0.032481 -0.033076\n",
            "R/R2998.jpg  Delete -0.009442  0.092719  ... -0.010438  0.034792 -0.031444\n",
            "R/R2999.jpg  Delete -0.006774  0.092433  ... -0.012130  0.033123 -0.031096\n",
            "R/R3000.jpg  Delete -0.007207  0.091573  ... -0.012152  0.030552 -0.032354\n",
            "\n",
            "[600 rows x 64 columns]\n"
          ]
        }
      ]
    },
    {
      "cell_type": "code",
      "metadata": {
        "id": "6k8kcIof5kWY"
      },
      "source": [
        "test_x.to_csv('drive/MyDrive/MAISFinalProject/test_x.csv')"
      ],
      "execution_count": 20,
      "outputs": []
    }
  ]
}