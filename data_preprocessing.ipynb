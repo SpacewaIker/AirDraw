{
  "nbformat": 4,
  "nbformat_minor": 0,
  "metadata": {
    "colab": {
      "name": "data preprocessing.ipynb",
      "provenance": []
    },
    "kernelspec": {
      "name": "python3",
      "display_name": "Python 3"
    },
    "language_info": {
      "name": "python"
    }
  },
  "cells": [
    {
      "cell_type": "markdown",
      "metadata": {
        "id": "HkiMZXJ2463s"
      },
      "source": [
        "# Data preprocessing\n",
        "\n",
        "The code in this notebook takes the input pictures and applies the mediapipe hands solution to find the relevant coordinates and saves them as a .csv file which can be used by the AI model to train."
      ]
    },
    {
      "cell_type": "markdown",
      "metadata": {
        "id": "htEFPb1rq3Ad"
      },
      "source": [
        "## Imports"
      ]
    },
    {
      "cell_type": "code",
      "metadata": {
        "colab": {
          "base_uri": "https://localhost:8080/"
        },
        "id": "dydGo9tI43jE",
        "outputId": "8c93abac-177b-47f9-f62f-3324f04f34ed"
      },
      "source": [
        "!pip install mediapipe\n",
        "\n",
        "import pandas as pd\n",
        "import cv2\n",
        "import mediapipe as mp\n",
        "import pandas as pd"
      ],
      "execution_count": null,
      "outputs": [
        {
          "output_type": "stream",
          "name": "stdout",
          "text": [
            "Requirement already satisfied: mediapipe in /usr/local/lib/python3.7/dist-packages (0.8.8.1)\n",
            "Requirement already satisfied: protobuf>=3.11.4 in /usr/local/lib/python3.7/dist-packages (from mediapipe) (3.17.3)\n",
            "Requirement already satisfied: six in /usr/local/lib/python3.7/dist-packages (from mediapipe) (1.15.0)\n",
            "Requirement already satisfied: numpy in /usr/local/lib/python3.7/dist-packages (from mediapipe) (1.19.5)\n",
            "Requirement already satisfied: matplotlib in /usr/local/lib/python3.7/dist-packages (from mediapipe) (3.2.2)\n",
            "Requirement already satisfied: absl-py in /usr/local/lib/python3.7/dist-packages (from mediapipe) (0.12.0)\n",
            "Requirement already satisfied: wheel in /usr/local/lib/python3.7/dist-packages (from mediapipe) (0.37.0)\n",
            "Requirement already satisfied: opencv-contrib-python in /usr/local/lib/python3.7/dist-packages (from mediapipe) (4.1.2.30)\n",
            "Requirement already satisfied: attrs>=19.1.0 in /usr/local/lib/python3.7/dist-packages (from mediapipe) (21.2.0)\n",
            "Requirement already satisfied: cycler>=0.10 in /usr/local/lib/python3.7/dist-packages (from matplotlib->mediapipe) (0.10.0)\n",
            "Requirement already satisfied: pyparsing!=2.0.4,!=2.1.2,!=2.1.6,>=2.0.1 in /usr/local/lib/python3.7/dist-packages (from matplotlib->mediapipe) (2.4.7)\n",
            "Requirement already satisfied: python-dateutil>=2.1 in /usr/local/lib/python3.7/dist-packages (from matplotlib->mediapipe) (2.8.2)\n",
            "Requirement already satisfied: kiwisolver>=1.0.1 in /usr/local/lib/python3.7/dist-packages (from matplotlib->mediapipe) (1.3.2)\n"
          ]
        }
      ]
    },
    {
      "cell_type": "markdown",
      "metadata": {
        "id": "lRrqeYMUq6SM"
      },
      "source": [
        "## Download database"
      ]
    },
    {
      "cell_type": "code",
      "metadata": {
        "colab": {
          "base_uri": "https://localhost:8080/"
        },
        "id": "Y328uPuRq9XX",
        "outputId": "75c94234-f4c8-4af5-a932-cc1a6ad8ad7b"
      },
      "source": [
        "!pip install kaggle\n",
        "# kaggle API\n",
        "!echo '{\"username\":\"spacewaiker\",\"key\":\"062bca10262b87f5b8498c589cdc65c6\"}' > ~/.kaggle/kaggle.json\n",
        "!chmod 600 ~/.kaggle/kaggle.json\n",
        "# download dataset:\n",
        "!kaggle datasets download grassknoted/asl-alphabet\n",
        "# extract files (-q disables writing status message for every file)\n",
        "!unzip asl-alphabet.zip -q\n",
        "!ls"
      ],
      "execution_count": null,
      "outputs": [
        {
          "output_type": "stream",
          "name": "stdout",
          "text": [
            "Requirement already satisfied: kaggle in /usr/local/lib/python3.7/dist-packages (1.5.12)\n",
            "Requirement already satisfied: python-dateutil in /usr/local/lib/python3.7/dist-packages (from kaggle) (2.8.2)\n",
            "Requirement already satisfied: tqdm in /usr/local/lib/python3.7/dist-packages (from kaggle) (4.62.3)\n",
            "Requirement already satisfied: urllib3 in /usr/local/lib/python3.7/dist-packages (from kaggle) (1.24.3)\n",
            "Requirement already satisfied: requests in /usr/local/lib/python3.7/dist-packages (from kaggle) (2.23.0)\n",
            "Requirement already satisfied: six>=1.10 in /usr/local/lib/python3.7/dist-packages (from kaggle) (1.15.0)\n",
            "Requirement already satisfied: certifi in /usr/local/lib/python3.7/dist-packages (from kaggle) (2021.5.30)\n",
            "Requirement already satisfied: python-slugify in /usr/local/lib/python3.7/dist-packages (from kaggle) (5.0.2)\n",
            "Requirement already satisfied: text-unidecode>=1.3 in /usr/local/lib/python3.7/dist-packages (from python-slugify->kaggle) (1.3)\n",
            "Requirement already satisfied: chardet<4,>=3.0.2 in /usr/local/lib/python3.7/dist-packages (from requests->kaggle) (3.0.4)\n",
            "Requirement already satisfied: idna<3,>=2.5 in /usr/local/lib/python3.7/dist-packages (from requests->kaggle) (2.10)\n",
            "Warning: Your Kaggle API key is readable by other users on this system! To fix this, you can run 'chmod 600 /root/.kaggle/kaggle.json'\n",
            "Downloading asl-alphabet.zip to /content\n",
            "100% 1.02G/1.03G [00:16<00:00, 84.4MB/s]\n",
            "100% 1.03G/1.03G [00:16<00:00, 64.8MB/s]\n"
          ]
        }
      ]
    },
    {
      "cell_type": "markdown",
      "metadata": {
        "id": "lXOXezV_wArw"
      },
      "source": [
        "Symbols:\n",
        "\n",
        "|Command  |ASL letters|Sign           |\n",
        "|---------|-----------|---------------|\n",
        "|Line     |L          |\"L\" shape      |\n",
        "|Ellipse  |A, S       |Fist           |\n",
        "|Rectangle|H, G       |Point right    |\n",
        "|Triangle |K, V       |Two fingers up |\n",
        "|Move     |B          |Palm           |\n",
        "|Delete   |R          |Crossed fingers|"
      ]
    },
    {
      "cell_type": "markdown",
      "metadata": {
        "id": "vLDSnh42S_YE"
      },
      "source": [
        "## Define functions to use later"
      ]
    },
    {
      "cell_type": "code",
      "metadata": {
        "id": "Az7MI8CeyzzW"
      },
      "source": [
        "'''\n",
        "Function to return the file names with the following format:\n",
        "A/A1234.jpg     if letter = 'A'  and   i = 1234\n",
        "'''\n",
        "def get_file_names(letter, n=3000):\n",
        "    files = []\n",
        "    for i in range(1, n+1):\n",
        "        files.append(f'{letter}/{letter}{i}.jpg')\n",
        "    \n",
        "    return files\n",
        "\n",
        "'''\n",
        "Function that applies the mediapipe hands solution to an image.\n",
        "img is the image file name and hands is the hands instance to use\n",
        "'''\n",
        "def apply_hands(row):\n",
        "    global hands\n",
        "    img = row.name\n",
        "    result = row.copy()\n",
        "\n",
        "    image = cv2.imread(DIR + img)\n",
        "    image = cv2.cvtColor(image, cv2.COLOR_BGR2RGB)\n",
        "    # print(1, end='')\n",
        "    \n",
        "    landmk = hands.process(image).multi_hand_landmarks\n",
        "    # print(2, end='')\n",
        "\n",
        "    if landmk:    # success\n",
        "        # print(3, end='')\n",
        "        landmarks = landmk[0]\n",
        "        # print(4, end='')\n",
        "        result[1:22] = [(i.x, i.y, i.z) for i in landmarks.landmark]\n",
        "        # print(5, end='')\n",
        "\n",
        "    # print(6)\n",
        "    return result\n"
      ],
      "execution_count": 100,
      "outputs": []
    },
    {
      "cell_type": "code",
      "metadata": {
        "id": "hgVWLAB750Yy",
        "colab": {
          "base_uri": "https://localhost:8080/"
        },
        "outputId": "f5354461-01e1-4aba-8239-6b2d7d61f2af"
      },
      "source": [
        "# Mediapipe stuff\n",
        "mp_hands = mp.solutions.hands\n",
        "mp_drawing = mp.solutions.drawing_utils\n",
        "mp_drawing_styles = mp.solutions.drawing_styles\n",
        "\n",
        "# get file names\n",
        "file_names = pd.DataFrame()\n",
        "\n",
        "file_names = file_names.append([['Line', file] for file in get_file_names('L')])\n",
        "file_names = file_names.append(\n",
        "    [['Ellipse', file] for file in get_file_names('A', n=1500) + get_file_names('S', n=1500)])\n",
        "file_names = file_names.append(\n",
        "    [['Rectangle', file] for file in get_file_names('H', n=1500) + get_file_names('G', n=1500)])\n",
        "file_names = file_names.append(\n",
        "    [['Triangle', file] for file in get_file_names('K', n=1500) + get_file_names('V', n=1500)])\n",
        "file_names = file_names.append([['Move', file] for file in get_file_names('B')])\n",
        "file_names = file_names.append([['Delete', file] for file in get_file_names('R')])\n",
        "\n",
        "file_names.rename(columns={0: 'Command', 1: 'File'}, inplace=True)\n",
        "file_names.set_index('File', inplace=True)\n",
        "print(file_names)\n",
        "\n",
        "DIR = 'asl_alphabet_train/asl_alphabet_train/'"
      ],
      "execution_count": 49,
      "outputs": [
        {
          "output_type": "stream",
          "name": "stdout",
          "text": [
            "            Command\n",
            "File               \n",
            "L/L1.jpg       Line\n",
            "L/L2.jpg       Line\n",
            "L/L3.jpg       Line\n",
            "L/L4.jpg       Line\n",
            "L/L5.jpg       Line\n",
            "...             ...\n",
            "R/R2996.jpg  Delete\n",
            "R/R2997.jpg  Delete\n",
            "R/R2998.jpg  Delete\n",
            "R/R2999.jpg  Delete\n",
            "R/R3000.jpg  Delete\n",
            "\n",
            "[18000 rows x 1 columns]\n"
          ]
        }
      ]
    },
    {
      "cell_type": "code",
      "metadata": {
        "colab": {
          "base_uri": "https://localhost:8080/"
        },
        "id": "jsEYFUd88Bpn",
        "outputId": "256df48e-d177-4f89-f812-e38a36199641"
      },
      "source": [
        "cols = ['Command'] + [i for i in range(21)]\n",
        "train_x = pd.DataFrame(columns=cols, index=file_names.index)\n",
        "\n",
        "train_x['Command'] = file_names['Command']\n",
        "\n",
        "\n",
        "# Loop over every file:\n",
        "with mp_hands.Hands(\n",
        "    static_image_mode=True,\n",
        "    max_num_hands=1,\n",
        "    min_detection_confidence=0.3\n",
        ") as hands:\n",
        "    train_x = train_x.apply(apply_hands, axis=1)  # 12 minutes\n",
        "\n",
        "print(train_x)"
      ],
      "execution_count": 101,
      "outputs": [
        {
          "output_type": "stream",
          "name": "stdout",
          "text": [
            "            Command  ...                                                 20\n",
            "File                 ...                                                   \n",
            "L/L1.jpg       Line  ...  (0.1568724811077118, 0.6060709953308105, -0.03...\n",
            "L/L2.jpg       Line  ...  (0.15856611728668213, 0.591741681098938, -0.06...\n",
            "L/L3.jpg       Line  ...  (0.15946881473064423, 0.5749116539955139, -0.0...\n",
            "L/L4.jpg       Line  ...  (0.16255448758602142, 0.5692355036735535, -0.1...\n",
            "L/L5.jpg       Line  ...  (0.16627277433872223, 0.5448649525642395, -0.0...\n",
            "...             ...  ...                                                ...\n",
            "R/R2996.jpg  Delete  ...  (0.7475021481513977, 0.4340217113494873, -0.04...\n",
            "R/R2997.jpg  Delete  ...  (0.7471187114715576, 0.44768959283828735, -0.0...\n",
            "R/R2998.jpg  Delete  ...  (0.7431156635284424, 0.4530644416809082, -0.04...\n",
            "R/R2999.jpg  Delete  ...  (0.7431281805038452, 0.4591083526611328, -0.04...\n",
            "R/R3000.jpg  Delete  ...  (0.7425534725189209, 0.46314913034439087, -0.0...\n",
            "\n",
            "[18000 rows x 22 columns]\n"
          ]
        }
      ]
    },
    {
      "cell_type": "code",
      "metadata": {
        "id": "6Mf1imiHM03h"
      },
      "source": [
        "train_x.to_csv(\"drive/MyDrive/MAISFinalProject/train_x.csv\")"
      ],
      "execution_count": 103,
      "outputs": []
    }
  ]
}