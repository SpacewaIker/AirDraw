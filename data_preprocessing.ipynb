{
  "nbformat": 4,
  "nbformat_minor": 0,
  "metadata": {
    "colab": {
      "name": "data preprocessing.ipynb",
      "provenance": []
    },
    "kernelspec": {
      "name": "python3",
      "display_name": "Python 3"
    },
    "language_info": {
      "name": "python"
    }
  },
  "cells": [
    {
      "cell_type": "markdown",
      "metadata": {
        "id": "HkiMZXJ2463s"
      },
      "source": [
        "# Data preprocessing\n",
        "\n",
        "The code in this notebook takes the input pictures and applies the mediapipe hands solution to find the relevant coordinates and saves them as a .csv file which can be used by the AI model to train."
      ]
    },
    {
      "cell_type": "markdown",
      "metadata": {
        "id": "htEFPb1rq3Ad"
      },
      "source": [
        "## Imports"
      ]
    },
    {
      "cell_type": "code",
      "metadata": {
        "colab": {
          "base_uri": "https://localhost:8080/"
        },
        "id": "dydGo9tI43jE",
        "outputId": "5dbda28e-2a9c-4031-ba98-50822e3e9574"
      },
      "source": [
        "!pip install mediapipe\n",
        "\n",
        "import pandas as pd\n",
        "import cv2\n",
        "import mediapipe as mp\n",
        "import pandas as pd"
      ],
      "execution_count": 1,
      "outputs": [
        {
          "output_type": "stream",
          "name": "stdout",
          "text": [
            "Collecting mediapipe\n",
            "  Downloading mediapipe-0.8.8.1-cp37-cp37m-manylinux_2_17_x86_64.manylinux2014_x86_64.whl (34.0 MB)\n",
            "\u001b[K     |████████████████████████████████| 34.0 MB 49 kB/s \n",
            "\u001b[?25hRequirement already satisfied: attrs>=19.1.0 in /usr/local/lib/python3.7/dist-packages (from mediapipe) (21.2.0)\n",
            "Requirement already satisfied: opencv-contrib-python in /usr/local/lib/python3.7/dist-packages (from mediapipe) (4.1.2.30)\n",
            "Requirement already satisfied: absl-py in /usr/local/lib/python3.7/dist-packages (from mediapipe) (0.12.0)\n",
            "Requirement already satisfied: numpy in /usr/local/lib/python3.7/dist-packages (from mediapipe) (1.19.5)\n",
            "Requirement already satisfied: wheel in /usr/local/lib/python3.7/dist-packages (from mediapipe) (0.37.0)\n",
            "Requirement already satisfied: six in /usr/local/lib/python3.7/dist-packages (from mediapipe) (1.15.0)\n",
            "Requirement already satisfied: protobuf>=3.11.4 in /usr/local/lib/python3.7/dist-packages (from mediapipe) (3.17.3)\n",
            "Requirement already satisfied: matplotlib in /usr/local/lib/python3.7/dist-packages (from mediapipe) (3.2.2)\n",
            "Requirement already satisfied: cycler>=0.10 in /usr/local/lib/python3.7/dist-packages (from matplotlib->mediapipe) (0.10.0)\n",
            "Requirement already satisfied: pyparsing!=2.0.4,!=2.1.2,!=2.1.6,>=2.0.1 in /usr/local/lib/python3.7/dist-packages (from matplotlib->mediapipe) (2.4.7)\n",
            "Requirement already satisfied: python-dateutil>=2.1 in /usr/local/lib/python3.7/dist-packages (from matplotlib->mediapipe) (2.8.2)\n",
            "Requirement already satisfied: kiwisolver>=1.0.1 in /usr/local/lib/python3.7/dist-packages (from matplotlib->mediapipe) (1.3.2)\n",
            "Installing collected packages: mediapipe\n",
            "Successfully installed mediapipe-0.8.8.1\n"
          ]
        }
      ]
    },
    {
      "cell_type": "markdown",
      "metadata": {
        "id": "lRrqeYMUq6SM"
      },
      "source": [
        "## Download database"
      ]
    },
    {
      "cell_type": "code",
      "metadata": {
        "colab": {
          "base_uri": "https://localhost:8080/"
        },
        "id": "Y328uPuRq9XX",
        "outputId": "ec794b3d-062a-4a25-d522-ef4711251711"
      },
      "source": [
        "!pip install kaggle\n",
        "# kaggle API\n",
        "!echo '{\"username\":\"spacewaiker\",\"key\":\"062bca10262b87f5b8498c589cdc65c6\"}' > ~/.kaggle/kaggle.json"
      ],
      "execution_count": 3,
      "outputs": [
        {
          "output_type": "stream",
          "name": "stdout",
          "text": [
            "Requirement already satisfied: kaggle in /usr/local/lib/python3.7/dist-packages (1.5.12)\n",
            "Requirement already satisfied: python-slugify in /usr/local/lib/python3.7/dist-packages (from kaggle) (5.0.2)\n",
            "Requirement already satisfied: certifi in /usr/local/lib/python3.7/dist-packages (from kaggle) (2021.5.30)\n",
            "Requirement already satisfied: tqdm in /usr/local/lib/python3.7/dist-packages (from kaggle) (4.62.3)\n",
            "Requirement already satisfied: urllib3 in /usr/local/lib/python3.7/dist-packages (from kaggle) (1.24.3)\n",
            "Requirement already satisfied: six>=1.10 in /usr/local/lib/python3.7/dist-packages (from kaggle) (1.15.0)\n",
            "Requirement already satisfied: requests in /usr/local/lib/python3.7/dist-packages (from kaggle) (2.23.0)\n",
            "Requirement already satisfied: python-dateutil in /usr/local/lib/python3.7/dist-packages (from kaggle) (2.8.2)\n",
            "Requirement already satisfied: text-unidecode>=1.3 in /usr/local/lib/python3.7/dist-packages (from python-slugify->kaggle) (1.3)\n",
            "Requirement already satisfied: idna<3,>=2.5 in /usr/local/lib/python3.7/dist-packages (from requests->kaggle) (2.10)\n",
            "Requirement already satisfied: chardet<4,>=3.0.2 in /usr/local/lib/python3.7/dist-packages (from requests->kaggle) (3.0.4)\n"
          ]
        }
      ]
    },
    {
      "cell_type": "code",
      "metadata": {
        "colab": {
          "base_uri": "https://localhost:8080/"
        },
        "id": "zh9gQLp91dtI",
        "outputId": "56362610-20d1-45f7-c60d-9f4ff984b73e"
      },
      "source": [
        "# download dataset:\n",
        "!kaggle datasets download grassknoted/asl-alphabet\n",
        "# extract files (-q disables writing status message for every file)\n",
        "!unzip -q asl-alphabet.zip\n",
        "!ls"
      ],
      "execution_count": 4,
      "outputs": [
        {
          "output_type": "stream",
          "name": "stdout",
          "text": [
            "Warning: Your Kaggle API key is readable by other users on this system! To fix this, you can run 'chmod 600 /root/.kaggle/kaggle.json'\n",
            "Downloading asl-alphabet.zip to /content\n",
            " 98% 1.01G/1.03G [00:09<00:00, 90.7MB/s]\n",
            "100% 1.03G/1.03G [00:09<00:00, 117MB/s] \n",
            "asl_alphabet_test  asl_alphabet_train  asl-alphabet.zip  drive\tsample_data\n"
          ]
        }
      ]
    },
    {
      "cell_type": "markdown",
      "metadata": {
        "id": "lXOXezV_wArw"
      },
      "source": [
        "Symbols:\n",
        "\n",
        "|Command  |ASL letters|Sign           |\n",
        "|---------|-----------|---------------|\n",
        "|Line     |L          |\"L\" shape      |\n",
        "|Ellipse  |A, S       |Fist           |\n",
        "|Rectangle|G          |Point right    |\n",
        "|Triangle |K, V       |Two fingers up |\n",
        "|Move     |B          |Palm           |\n",
        "|Delete   |R          |Crossed fingers|"
      ]
    },
    {
      "cell_type": "markdown",
      "metadata": {
        "id": "vLDSnh42S_YE"
      },
      "source": [
        "## Define functions to use later"
      ]
    },
    {
      "cell_type": "code",
      "metadata": {
        "id": "Az7MI8CeyzzW"
      },
      "source": [
        "'''\n",
        "Function to return the file names with the following format:\n",
        "A/A1234.jpg     if letter = 'A'  and   i = 1234\n",
        "'''\n",
        "def get_file_names(letter, n=3000):\n",
        "    files = []\n",
        "    for i in range(1, n+1):\n",
        "        files.append(f'{letter}/{letter}{i}.jpg')\n",
        "    \n",
        "    return files\n",
        "\n",
        "'''\n",
        "Function that applies the mediapipe hands solution to an image.\n",
        "img is the image file name and hands is the hands instance to use\n",
        "'''\n",
        "def apply_hands(row):\n",
        "    global hands\n",
        "    img = row.name\n",
        "    result = row.copy()\n",
        "\n",
        "    image = cv2.imread(DIR + img)\n",
        "    image = cv2.cvtColor(image, cv2.COLOR_BGR2RGB)\n",
        "    \n",
        "    landmk = hands.process(image).multi_hand_landmarks\n",
        "\n",
        "    if landmk:    # success\n",
        "        landmarks = landmk[0]\n",
        "        list_tuples = [(i.x, i.y, i.z) for i in landmarks.landmark]\n",
        "        result[1:64] = [i for t in list_tuples for i in t]\n",
        "\n",
        "    return result"
      ],
      "execution_count": 5,
      "outputs": []
    },
    {
      "cell_type": "code",
      "metadata": {
        "id": "hgVWLAB750Yy",
        "colab": {
          "base_uri": "https://localhost:8080/"
        },
        "outputId": "93fb3e8c-b546-4d2b-b956-66a4a0fad469"
      },
      "source": [
        "# Mediapipe stuff\n",
        "mp_hands = mp.solutions.hands\n",
        "mp_drawing = mp.solutions.drawing_utils\n",
        "mp_drawing_styles = mp.solutions.drawing_styles\n",
        "\n",
        "# get file names\n",
        "file_names = pd.DataFrame()\n",
        "\n",
        "file_names = file_names.append([['Line', file] for file in get_file_names('L')])\n",
        "file_names = file_names.append(\n",
        "    [['Ellipse', file] for file in get_file_names('A', n=1500) + get_file_names('S', n=1500)])\n",
        "file_names = file_names.append([['Rectangle', file] for file in get_file_names('G')])\n",
        "file_names = file_names.append(\n",
        "    [['Triangle', file] for file in get_file_names('K', n=1500) + get_file_names('V', n=1500)])\n",
        "file_names = file_names.append([['Move', file] for file in get_file_names('B')])\n",
        "file_names = file_names.append([['Delete', file] for file in get_file_names('R')])\n",
        "\n",
        "file_names.rename(columns={0: 'Command', 1: 'File'}, inplace=True)\n",
        "file_names.set_index('File', inplace=True)\n",
        "print(file_names)"
      ],
      "execution_count": 6,
      "outputs": [
        {
          "output_type": "stream",
          "name": "stdout",
          "text": [
            "            Command\n",
            "File               \n",
            "L/L1.jpg       Line\n",
            "L/L2.jpg       Line\n",
            "L/L3.jpg       Line\n",
            "L/L4.jpg       Line\n",
            "L/L5.jpg       Line\n",
            "...             ...\n",
            "R/R2996.jpg  Delete\n",
            "R/R2997.jpg  Delete\n",
            "R/R2998.jpg  Delete\n",
            "R/R2999.jpg  Delete\n",
            "R/R3000.jpg  Delete\n",
            "\n",
            "[18000 rows x 1 columns]\n"
          ]
        }
      ]
    },
    {
      "cell_type": "code",
      "metadata": {
        "colab": {
          "base_uri": "https://localhost:8080/"
        },
        "id": "jsEYFUd88Bpn",
        "outputId": "25e819c2-16b7-4b7c-8137-6c5715030193"
      },
      "source": [
        "DIR = 'asl_alphabet_train/asl_alphabet_train/'\n",
        "\n",
        "cols = ['Command'] + [i for i in range(21*3)]\n",
        "train_x = pd.DataFrame(columns=cols, index=file_names.index)\n",
        "\n",
        "train_x['Command'] = file_names['Command']\n",
        "\n",
        "\n",
        "# Loop over every file:\n",
        "with mp_hands.Hands(\n",
        "    static_image_mode=True,\n",
        "    max_num_hands=1,\n",
        "    min_detection_confidence=0.3\n",
        ") as hands:\n",
        "    train_x = train_x.apply(apply_hands, axis=1)\n",
        "\n",
        "print(train_x)"
      ],
      "execution_count": 7,
      "outputs": [
        {
          "output_type": "stream",
          "name": "stdout",
          "text": [
            "            Command         0         1  ...        60        61        62\n",
            "File                                     ...                              \n",
            "L/L1.jpg       Line  0.194117  0.781227  ...  0.156872  0.606071 -0.037719\n",
            "L/L2.jpg       Line  0.206340  0.751357  ...  0.158566  0.591742 -0.067008\n",
            "L/L3.jpg       Line  0.205757  0.734117  ...  0.159469  0.574912 -0.068139\n",
            "L/L4.jpg       Line  0.222412  0.708068  ...  0.162554  0.569236 -0.102018\n",
            "L/L5.jpg       Line  0.218702  0.703621  ...  0.166273  0.544865 -0.076625\n",
            "...             ...       ...       ...  ...       ...       ...       ...\n",
            "R/R2996.jpg  Delete  0.761999  0.578109  ...  0.747502  0.434022 -0.045308\n",
            "R/R2997.jpg  Delete  0.760152  0.583979  ...  0.747119  0.447690 -0.047027\n",
            "R/R2998.jpg  Delete  0.762270  0.593931  ...  0.743116  0.453064 -0.045474\n",
            "R/R2999.jpg  Delete  0.762119  0.604612  ...  0.743128  0.459108 -0.045114\n",
            "R/R3000.jpg  Delete  0.763956  0.609186  ...  0.742553  0.463149 -0.045747\n",
            "\n",
            "[18000 rows x 64 columns]\n"
          ]
        }
      ]
    },
    {
      "cell_type": "code",
      "metadata": {
        "id": "6Mf1imiHM03h"
      },
      "source": [
        "train_x.to_csv(\"drive/MyDrive/MAISFinalProject/train_x.csv\")"
      ],
      "execution_count": 8,
      "outputs": []
    },
    {
      "cell_type": "markdown",
      "metadata": {
        "id": "M7UWIG345SXr"
      },
      "source": [
        "## Preprocess testing data"
      ]
    },
    {
      "cell_type": "code",
      "metadata": {
        "colab": {
          "base_uri": "https://localhost:8080/"
        },
        "id": "A9jqqRYF5SCk",
        "outputId": "d45640c0-b02d-4277-bf7b-0f4891779e59"
      },
      "source": [
        "DIR = 'asl_alphabet_test/asl_alphabet_test/'\n",
        "\n",
        "files = ['L_test.jpg', 'A_test.jpg', 'S_test.jpg', 'G_test.jpg',\n",
        "         'K_test.jpg', 'V_test.jpg', 'B_test.jpg', 'R_test.jpg']\n",
        "\n",
        "test_x = pd.DataFrame(columns=cols, index=files)\n",
        "\n",
        "test_x['Command'] = ['Line', 'Ellipse', 'Ellipse', 'Rectangle',\n",
        "                     'Triangle', 'Triangle', 'Move', 'Delete']\n",
        "\n",
        "\n",
        "# Loop over every file:\n",
        "with mp_hands.Hands(\n",
        "    static_image_mode=True,\n",
        "    max_num_hands=1,\n",
        "    min_detection_confidence=0.3\n",
        ") as hands:\n",
        "    test_x = test_x.apply(apply_hands, axis=1)\n",
        "\n",
        "print(test_x)"
      ],
      "execution_count": 13,
      "outputs": [
        {
          "output_type": "stream",
          "name": "stdout",
          "text": [
            "              Command         0         1  ...        60        61        62\n",
            "L_test.jpg       Line  0.194117  0.781227  ...  0.156872  0.606071 -0.037719\n",
            "A_test.jpg    Ellipse       NaN       NaN  ...       NaN       NaN       NaN\n",
            "S_test.jpg    Ellipse  0.388679  0.652530  ...  0.304713  0.491797 -0.021766\n",
            "G_test.jpg  Rectangle  0.599978  0.740450  ...  0.473065  0.757525 -0.110142\n",
            "K_test.jpg   Triangle  0.491627  0.935984  ...  0.411350  0.800293 -0.094555\n",
            "V_test.jpg   Triangle  0.242814  0.957717  ...  0.170084  0.777523 -0.150767\n",
            "B_test.jpg       Move  0.619207  0.840809  ...  0.418085  0.324503  0.012467\n",
            "R_test.jpg     Delete  0.278777  0.884406  ...  0.215812  0.700789 -0.141390\n",
            "\n",
            "[8 rows x 64 columns]\n"
          ]
        }
      ]
    },
    {
      "cell_type": "code",
      "metadata": {
        "id": "6k8kcIof5kWY"
      },
      "source": [
        "test_x.to_csv('drive/MyDrive/MAISFinalProject/test_x.csv')"
      ],
      "execution_count": 15,
      "outputs": []
    }
  ]
}